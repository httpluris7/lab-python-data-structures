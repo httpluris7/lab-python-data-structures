{
 "cells": [
  {
   "cell_type": "markdown",
   "metadata": {
    "tags": []
   },
   "source": [
    "# Lab | Data Structures "
   ]
  },
  {
   "cell_type": "markdown",
   "metadata": {},
   "source": [
    "## Exercise: Managing Customer Orders\n",
    "\n",
    "As part of a business venture, you are starting an online store that sells various products. To ensure smooth operations, you need to develop a program that manages customer orders and inventory.\n",
    "\n",
    "Follow the steps below to complete the exercise:\n",
    "\n",
    "1. Define a list called `products` that contains the following items: \"t-shirt\", \"mug\", \"hat\", \"book\", \"keychain\".\n",
    "\n",
    "2. Create an empty dictionary called `inventory`.\n",
    "\n",
    "3. Ask the user to input the quantity of each product available in the inventory. Use the product names from the `products` list as keys in the `inventory` dictionary and assign the respective quantities as values.\n",
    "\n",
    "4. Create an empty set called `customer_orders`.\n",
    "\n",
    "5. Ask the user to input the name of three products that a customer wants to order (from those in the products list, meaning three products out of \"t-shirt\", \"mug\", \"hat\", \"book\" or \"keychain\". Add each product name to the `customer_orders` set.\n",
    "\n",
    "6. Print the products in the `customer_orders` set.\n",
    "\n",
    "7. Calculate the following order statistics:\n",
    "   - Total Products Ordered: The total number of products in the `customer_orders` set.\n",
    "   - Percentage of Products Ordered: The percentage of products ordered compared to the total available products.\n",
    "   \n",
    "   Store these statistics in a tuple called `order_status`.\n",
    "\n",
    "8. Print the order statistics using the following format:\n",
    "   ```\n",
    "   Order Statistics:\n",
    "   Total Products Ordered: <total_products_ordered>\n",
    "   Percentage of Products Ordered: <percentage_ordered>% \n",
    "   ```\n",
    "\n",
    "9. Update the inventory by subtracting 1 from the quantity of each product. Modify the `inventory` dictionary accordingly.\n",
    "\n",
    "10. Print the updated inventory, displaying the quantity of each product on separate lines.\n",
    "\n",
    "Solve the exercise by implementing the steps using the Python concepts of lists, dictionaries, sets, and basic input/output operations. "
   ]
  },
  {
   "cell_type": "code",
   "execution_count": 1,
   "metadata": {},
   "outputs": [
    {
     "name": "stdout",
     "output_type": "stream",
     "text": [
      "{'hat', 'book', 'mug'}\n",
      "Order Statistics: \n",
      "Total products ordered: 3\n",
      "Percentage of product ordered: 6.0%\n",
      "{'t-shirt': 9, 'mug': 9, 'hat': 9, 'book': 9, 'keychain': 9}\n"
     ]
    }
   ],
   "source": [
    "products = [\"t-shirt\", \"mug\", \"hat\", \"book\", \"keychain\"]\n",
    "inventory = {}\n",
    "inventory[\"t-shirt\"] = int(input(\"Quantity of t-shirt: \"))\n",
    "inventory[\"mug\"] = int(input(\"Quantity of mug: \"))\n",
    "inventory[\"hat\"] = int(input(\"Quantity of hat: \"))\n",
    "inventory[\"book\"] = int(input(\"Quantity of book: \"))\n",
    "inventory[\"keychain\"] = int(input(\"Quantity of keychain: \"))\n",
    "\n",
    "\n",
    "\n",
    "customers_order = {(input(\"De estos productos t-shirt, mug, hat, book, keychain , elige el producto numero1: \")) , \n",
    "(input(\"De estos productos t-shirt, mug, hat, book, keychain , elige el producto numero2: \")) , \n",
    "(input(\"De estos productos t-shirt, mug, hat, book, keychain , elige el producto numero3: \"))\n",
    "}\n",
    "\n",
    "print(customers_order)\n",
    "\n",
    "\n",
    "total_products = 10 + 10 + 10 + 10 + 10   #Suponemos que hay 10 unidades de cada item\n",
    "\n",
    "total_costumers_order = 3\n",
    "total_costumers_orderStr = str(total_costumers_order)\n",
    "\n",
    "percetage_costumers_order = (total_costumers_order / total_products) * 100\n",
    "percetage_costumers_orderStr = str(percetage_costumers_order)\n",
    "\n",
    "order_status = (50, 3, \"6%\")\n",
    "\n",
    "print(\"Order Statistics: \\n\" + \"Total products ordered: \" + total_costumers_orderStr + \"\\n\" + \"Percentage of product ordered: \" + percetage_costumers_orderStr + \"%\")\n",
    "\n",
    "inventory[\"t-shirt\"] -= 1\n",
    "inventory[\"mug\"] -= 1\n",
    "inventory[\"hat\"] -= 1\n",
    "inventory[\"book\"] -= 1\n",
    "inventory[\"keychain\"] -= 1\n",
    "\n",
    "print(inventory)\n"
   ]
  }
 ],
 "metadata": {
  "kernelspec": {
   "display_name": "base",
   "language": "python",
   "name": "python3"
  },
  "language_info": {
   "codemirror_mode": {
    "name": "ipython",
    "version": 3
   },
   "file_extension": ".py",
   "mimetype": "text/x-python",
   "name": "python",
   "nbconvert_exporter": "python",
   "pygments_lexer": "ipython3",
   "version": "3.12.7"
  }
 },
 "nbformat": 4,
 "nbformat_minor": 4
}
